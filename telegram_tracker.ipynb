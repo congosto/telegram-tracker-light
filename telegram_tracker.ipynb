{
  "cells": [
    {
      "cell_type": "markdown",
      "metadata": {
        "id": "p6UGRasC_izo"
      },
      "source": [
        "## Cuaderno para ejecutar telegram-tracker_light_main"
      ]
    },
    {
      "cell_type": "markdown",
      "metadata": {
        "id": "dMDlU9sM_FN6"
      },
      "source": [
        "### Montamos nuestro drive en Colab"
      ]
    },
    {
      "cell_type": "code",
      "execution_count": null,
      "metadata": {
        "id": "irqspLY4j1oU"
      },
      "outputs": [],
      "source": [
        "from google.colab import drive\n",
        "drive.mount('/content/drive')"
      ]
    },
    {
      "cell_type": "markdown",
      "metadata": {
        "id": "nRACYkvh_yxs"
      },
      "source": [
        "### Instalamos telethon"
      ]
    },
    {
      "cell_type": "code",
      "execution_count": null,
      "metadata": {
        "id": "pncTkn5WyZWk"
      },
      "outputs": [],
      "source": [
        "!python3 -m pip install --upgrade telethon\n",
        "!python3 -m pip install adjustText\n",
        "!python3 -m pip install si_prefix"
      ]
    },
    {
      "cell_type": "markdown",
      "metadata": {
        "id": "pacE3T7u_579"
      },
      "source": [
        "### Ejecutamos el script principal de telegram-tracket\n",
        "\n",
        "\n",
        "\n",
        "```\n",
        "usage: main.py\n",
        "       [-h]\n",
        "       --telegram-channel\n",
        "       TELEGRAM_CHANNEL\n",
        "       [--max-msgs MAX_MSGS]\n",
        "       [--limit-download-to-channel-metadata]\n",
        "       [--output OUTPUT]\n",
        "\n",
        "\n",
        "Opciones:\n",
        " --telegram-channel  para descargar un canal\n",
        " --max-msgs Máximo número de mensajes descargados de un canal (de más recientes a más antiguos). Por defecto todos\n",
        " --limit-download-to-channel-metadata bajar solo los metadatos del canal (sin mensajes)\n",
        " --output directorio donde descargar los datos\n",
        "```\n",
        "\n"
      ]
    },
    {
      "cell_type": "markdown",
      "metadata": {
        "id": "a2Qow2nTdcj3"
      },
      "source": [
        "### Extraer un canal\n",
        "\n",
        "Será la raiz de la búsqueda por bola de nieve\n"
      ]
    },
    {
      "cell_type": "code",
      "execution_count": null,
      "metadata": {
        "id": "H5V8Wwg-wRc1"
      },
      "outputs": [],
      "source": [
        "import os\n",
        "# Set working directory\n",
        "os.chdir(\"/content/drive/MyDrive/telegram-tracker-light-main\")\n",
        "'''\n",
        "!!!!!!!  Set channel name  !!!!!!\n",
        "'''\n",
        "channel = 'xxxxxxxxx'\n",
        "'''\n",
        "'''\n",
        "path_channel = f'./data/{channel}'\n",
        "print(f'Output in {path_channel}')\n",
        "print(f'Downloading channel {channel}')\n",
        "!python main.py --telegram-channel {channel} --output {path_channel}\n"
      ]
    },
    {
      "cell_type": "markdown",
      "metadata": {
        "id": "LfL_05EwkNJK"
      },
      "source": [
        "\n",
        "### Dado un canal descargado, extraer canales relacionados por método bola de nieve\n",
        "\n",
        "Atención! El canal ha debido ser previamente extraido, ejecutando la anterior casilla\n"
      ]
    },
    {
      "cell_type": "code",
      "execution_count": null,
      "metadata": {
        "id": "6mdSzW5OkRge"
      },
      "outputs": [],
      "source": [
        "# Set working directory\n",
        "import os\n",
        "os.chdir(\"/content/drive/MyDrive/telegram-tracker-light-main\")\n",
        "import sys\n",
        "import time\n",
        "from utils import (\n",
        "\tlog_management\n",
        ")\n",
        "'''\n",
        "!!!!!!!  Set root channel name  !!!!!!\n",
        "'''\n",
        "root_channel = 'xxxxxxxxx'\n",
        "'''\n",
        "'''\n",
        "path_channel = f'./data/{root_channel}'\n",
        "path_channel_n2 = f'./data/{root_channel}_n2'\n",
        "if not os.path.exists(path_channel):\n",
        "\tprint(f'{root_channel} must have been downloaded before')\n",
        "else:\n",
        "  path_channel_n2 = f'./data/{root_channel}_n2'\n",
        "  os.makedirs(path_channel_n2, exist_ok=True)\n",
        "  (f_log, list_downloaded) = log_management(path_channel_n2,f'{root_channel}_n2_log.csv')\n",
        "  with open(f'{path_channel}/related_channels.csv', 'r') as inputfile:\n",
        "   channels = inputfile.readlines()\n",
        "  num_channels = len (channels)\n",
        "  i = 0\n",
        "  for channel in channels:\n",
        "    i = i + 1\n",
        "    channel = channel.strip('\\n') # remove line break\n",
        "    if not channel in list_downloaded.values:\n",
        "      print(f'--------> downloading {channel} ({i} of {num_channels})')\n",
        "      !python main.py --telegram-channel {channel}  --output {path_channel}_n2\n",
        "      f_log.write(f'{channel},downloaded,{time.ctime()}\\n')\n",
        "      f_log.flush()\n",
        "    else:\n",
        "      print(f'--------> already downloaded {channel} ({i} of {num_channels})')\n",
        "  f_log.close()\n"
      ]
    },
    {
      "cell_type": "markdown",
      "metadata": {
        "id": "nYW2buXGwJfM"
      },
      "source": [
        "\n",
        "### Dado una lista de canales buscar, sus relaciones"
      ]
    },
    {
      "cell_type": "code",
      "execution_count": null,
      "metadata": {
        "id": "QZSWSxX6ypUs"
      },
      "outputs": [],
      "source": [
        "# Set working directory\n",
        "import os\n",
        "os.chdir(\"/content/drive/MyDrive/telegram-tracker-light-main\")\n",
        "import sys\n",
        "import csv\n",
        "import time\n",
        "from utils import (\n",
        "\tlog_management\n",
        ")\n",
        "'''\n",
        "!!!!!!  Name the channel list  !!!!!!\n",
        "'''\n",
        "list_channels = \"xxxxxxxxx\"\n",
        "'''\n",
        "'''\n",
        "path_list = f'./data/{list_channels}'\n",
        "if not os.path.exists(f'{path_list}/list_channels.csv'):\n",
        "  os.makedirs(path_list, exist_ok=True)\n",
        "  channels = input('Enter a comma separated list of channels:    ')\n",
        "  channels = channels.split (\",\")\n",
        "  with open(f'{path_list}/list_channels.csv', 'w') as csvfile:\n",
        "    writer = csv.writer(csvfile, delimiter=\"\\n\")\n",
        "    writer.writerow(channels)\n",
        "else:\n",
        "  with open(f'{path_list}/list_channels.csv', 'r') as inputfile:\n",
        "    channels = inputfile.readlines()\n",
        "(f_log, list_downloaded) = log_management(path_list,f'{list_channels}_log.csv')\n",
        "num_channels = len (channels)\n",
        "i = 0\n",
        "for channel in channels:\n",
        "  i = i + 1\n",
        "  channel = channel.strip('\\n') # remove line break\n",
        "  if not channel in list_downloaded.values:\n",
        "    print(f'--------> downloading {channel} ({i} of {num_channels})')\n",
        "    !python main.py --telegram-channel {channel}  --output {path_list}\n",
        "    f_log.write(f'{channel},downloaded,{time.ctime()}\\n')\n",
        "    f_log.flush()\n",
        "  else:\n",
        "    print(f'--------> already downloaded {channel} ({i} of {num_channels})')\n",
        "\n",
        "f_log.close()\n"
      ]
    },
    {
      "cell_type": "markdown",
      "source": [
        "\n",
        "### Generar gráficas"
      ],
      "metadata": {
        "id": "OBp4vbQTYu7I"
      }
    },
    {
      "cell_type": "code",
      "source": [
        "# Set working directory\n",
        "import os\n",
        "os.chdir(\"/content/drive/MyDrive/telegram-tracker-light-main\")\n",
        "'''\n",
        "!!!!!!  dataset name  !!!!!!\n",
        "'''\n",
        "dataset = \"xxxxxxxxx\"\n",
        "'''\n",
        "'''\n",
        "os.chdir(\"/content/drive/MyDrive/telegram-tracker-light-main\")\n",
        "print(f'--------> draw charts from dataset {dataset}')\n",
        "!python draw_charts.py --dataset {dataset}"
      ],
      "metadata": {
        "id": "bXve6A88Y5Sw"
      },
      "execution_count": null,
      "outputs": []
    },
    {
      "cell_type": "markdown",
      "source": [],
      "metadata": {
        "id": "W2ioqmQ8-_Tp"
      }
    }
  ],
  "metadata": {
    "colab": {
      "provenance": []
    },
    "kernelspec": {
      "display_name": "Python 3",
      "name": "python3"
    },
    "language_info": {
      "name": "python"
    }
  },
  "nbformat": 4,
  "nbformat_minor": 0
}