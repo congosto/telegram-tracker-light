{
  "cells": [
    {
      "cell_type": "markdown",
      "metadata": {
        "id": "p6UGRasC_izo"
      },
      "source": [
        "## Cuaderno para ejecutar telegram-tracker_light_main"
      ]
    },
    {
      "cell_type": "markdown",
      "metadata": {
        "id": "dMDlU9sM_FN6"
      },
      "source": [
        "### Montamos nuestro drive en Colab"
      ]
    },
    {
      "cell_type": "code",
      "execution_count": null,
      "metadata": {
        "id": "irqspLY4j1oU"
      },
      "outputs": [],
      "source": [
        "from google.colab import drive\n",
        "drive.mount('/content/drive')"
      ]
    },
    {
      "cell_type": "markdown",
      "metadata": {
        "id": "nRACYkvh_yxs"
      },
      "source": [
        "### Instalamos telethon"
      ]
    },
    {
      "cell_type": "code",
      "execution_count": null,
      "metadata": {
        "id": "pncTkn5WyZWk"
      },
      "outputs": [],
      "source": [
        "!python3 -m pip install --upgrade telethon\n",
        "!python3 -m pip install adjustText\n",
        "!python3 -m pip install si_prefix"
      ]
    },
    {
      "cell_type": "markdown",
      "metadata": {
        "id": "pacE3T7u_579"
      },
      "source": [
        "### Ejecutamos el script principal de telegram-tracket\n",
        "\n",
        "\n",
        "\n",
        "```\n",
        "usage: main.py\n",
        "       [-h]\n",
        "       --telegram-channel\n",
        "       TELEGRAM_CHANNEL\n",
        "       [--max-msgs MAX_MSGS]\n",
        "       [--limit-download-to-channel-metadata]\n",
        "       [--output OUTPUT]\n",
        "\n",
        "\n",
        "Opciones:\n",
        " --telegram-channel  para descargar un canal\n",
        " --max-msgs Máximo número de mensajes descargados de un canal (de más recientes a más antiguos). Por defecto todos\n",
        " --limit-download-to-channel-metadata bajar solo los metadatos del canal (sin mensajes)\n",
        " --output directorio donde descargar los datos\n",
        "```\n",
        "\n"
      ]
    },
    {
      "cell_type": "markdown",
      "metadata": {
        "id": "a2Qow2nTdcj3"
      },
      "source": [
        "### Extraer un canal\n",
        "\n",
        "Será la raiz de la búsqueda por bola de nieve\n"
      ]
    },
    {
      "cell_type": "code",
      "execution_count": null,
      "metadata": {
        "id": "H5V8Wwg-wRc1"
      },
      "outputs": [],
      "source": [
        "import os\n",
        "os.chdir(\"/content/drive/MyDrive/telegram-tracker-light-main\")\n",
        "channel = input ('Enter channel name: ')\n",
        "path_channel = f'./data/{channel}'\n",
        "print(f'Output in {path_channel}')\n",
        "print(f'Downloading channel {channel}')\n",
        "!python main.py --telegram-channel {channel}\n"
      ]
    },
    {
      "cell_type": "markdown",
      "metadata": {
        "id": "LfL_05EwkNJK"
      },
      "source": [
        "\n",
        "### Dado un canal descargado, extraer canales relacionados por método bola de nieve\n",
        "\n",
        "Atención! El canal ha debido ser previamente extraido, ejecutando la anterior casilla\n"
      ]
    },
    {
      "cell_type": "code",
      "execution_count": null,
      "metadata": {
        "id": "6mdSzW5OkRge"
      },
      "outputs": [],
      "source": [
        "# Set working directory\n",
        "import os\n",
        "os.chdir(\"/content/drive/MyDrive/telegram-tracker-light-main\")\n",
        "channel_root = input ('root channel (must have been downloaded before): ')\n",
        "data_path = './data'\n",
        "dataset_path = './dataset'\n",
        "channel_list = f'{data_path}/{channel_root}/related_channels.csv'\n",
        "if not os.path.exists(channel_list):\n",
        "\tprint(f'{channel_root} must have been downloaded before')\n",
        "else:\n",
        "\t!python build-dataset.py --dataset-name {channel_root}_n2 --channel-list {channel_list}\n"
      ]
    },
    {
      "cell_type": "markdown",
      "metadata": {
        "id": "nYW2buXGwJfM"
      },
      "source": [
        "\n",
        "### Descargar una lista de canales"
      ]
    },
    {
      "cell_type": "code",
      "execution_count": null,
      "metadata": {
        "id": "QZSWSxX6ypUs"
      },
      "outputs": [],
      "source": [
        "# Set working directory\n",
        "import os\n",
        "os.chdir(\"/content/drive/MyDrive/telegram-tracker-light-main\")\n",
        "dataset_name = input ('Enter dataset name: ')\n",
        "dataset_path= './dataset'\n",
        "if not os.path.exists(f'{dataset_path}/{dataset_name}/channel_list.csv'):\n",
        "\tchannel_list = input ('Enter file with the list of channels: ')\n",
        "else:\n",
        "\tchannel_list = f'{dataset_path}/{dataset_name}/channel_list.csv'\n",
        "!python build-dataset.py --dataset-name {dataset_name} --channel-list {channel_list}\n"
      ]
    },
    {
      "cell_type": "markdown",
      "source": [
        "\n",
        "### Generar gráficas"
      ],
      "metadata": {
        "id": "OBp4vbQTYu7I"
      }
    },
    {
      "cell_type": "code",
      "source": [
        "# Set working directory\n",
        "import os\n",
        "os.chdir(\"/content/drive/MyDrive/telegram-tracker-light-main\")\n",
        "dataset_name = input ('Enter dataset or channel name: ')\n",
        "if os.path.exists(f'./data/{dataset_name}'):\n",
        "\tprint(f'--------> draw charts from channel {dataset_name}')\n",
        "\t!python draw_charts.py --channel {dataset_name}\n",
        "elif os.path.exists(f'./dataset/{dataset_name}/'):\n",
        "  print(f'--------> draw charts from dataset {dataset_name}')\n",
        "  !python draw_charts.py --dataset {dataset_name}\n",
        "else:\n",
        "  print(f'{dataset_name} does not exist')"
      ],
      "metadata": {
        "id": "bXve6A88Y5Sw"
      },
      "execution_count": null,
      "outputs": []
    },
    {
      "cell_type": "markdown",
      "source": [],
      "metadata": {
        "id": "W2ioqmQ8-_Tp"
      }
    }
  ],
  "metadata": {
    "colab": {
      "provenance": []
    },
    "kernelspec": {
      "display_name": "Python 3",
      "name": "python3"
    },
    "language_info": {
      "name": "python"
    }
  },
  "nbformat": 4,
  "nbformat_minor": 0
}